{
  "nbformat": 4,
  "nbformat_minor": 0,
  "metadata": {
    "colab": {
      "provenance": [],
      "include_colab_link": true
    },
    "kernelspec": {
      "name": "python3",
      "display_name": "Python 3"
    }
  },
  "cells": [
    {
      "cell_type": "markdown",
      "metadata": {
        "id": "view-in-github",
        "colab_type": "text"
      },
      "source": [
        "<a href=\"https://colab.research.google.com/github/DeibyStivenMarin/MIAR_Algoritmos_de_optimizacion/blob/main/Deiby_Marin_Seminario_Algoritmos.ipynb\" target=\"_parent\"><img src=\"https://colab.research.google.com/assets/colab-badge.svg\" alt=\"Open In Colab\"/></a>"
      ]
    },
    {
      "cell_type": "markdown",
      "metadata": {
        "id": "hVbXYX-RfPWh"
      },
      "source": [
        "# Algoritmos de optimización - Seminario<br>\n",
        "Nombre y Apellidos: Deiby Stiven Marin Garcia  <br>\n",
        "Url: https://github.com/.../03MAIR---Algoritmos-de-Optimizacion---2019/tree/master/SEMINARIO<br>\n",
        "Problema:\n",
        ">3. Combinar cifras y operaciones\n",
        "\n",
        "• El problema consiste en analizar el siguiente problema y diseñar un algoritmo que lo resuelva.<br>\n",
        "• Disponemos de las 9 cifras del 1 al 9 (excluimos el cero) y de los 4 signos básicos de las\n",
        "operaciones fundamentales: suma(+), resta(-), multiplicación(*) y división(/)<br>\n",
        "• Debemos combinarlos alternativamente sin repetir ninguno de ellos para obtener una\n",
        "cantidad dada.<br>\n",
        "Un ejemplo sería para obtener el 4:<br>\n",
        "4 + 2 - 6 /3 * 1 = 4\n",
        "\n",
        "(*) La respuesta es obligatoria\n",
        "\n",
        "\n",
        "\n",
        "\n",
        "\n",
        "                                        "
      ]
    },
    {
      "cell_type": "code",
      "metadata": {
        "id": "AiskKkzZfy4e"
      },
      "source": [],
      "execution_count": null,
      "outputs": []
    },
    {
      "cell_type": "markdown",
      "metadata": {
        "id": "3_-exlrTgLd-"
      },
      "source": [
        "(*)¿Cuantas posibilidades hay sin tener en cuenta las restricciones?<br>\n",
        "\n",
        "\n",
        "\n",
        "¿Cuantas posibilidades hay teniendo en cuenta todas las restricciones.\n",
        "\n",
        "\n"
      ]
    },
    {
      "cell_type": "markdown",
      "metadata": {
        "id": "WfCUqJyKhPcw"
      },
      "source": [
        "Respuesta"
      ]
    },
    {
      "cell_type": "code",
      "metadata": {
        "id": "iq6Fe32MgpDX"
      },
      "source": [
        "Sin tener restricciones seria 9^5 * 4^4 = 15.116.544"
      ],
      "execution_count": null,
      "outputs": []
    },
    {
      "cell_type": "code",
      "source": [
        "Con restricciones es (9 * 8 * 7 * 6 * 5 ) * (4 * 3 * 2 * 1) = 362880"
      ],
      "metadata": {
        "id": "zxl0EfgeMCl2"
      },
      "execution_count": null,
      "outputs": []
    },
    {
      "cell_type": "markdown",
      "source": [],
      "metadata": {
        "id": "sy1nMe0VM4ef"
      }
    },
    {
      "cell_type": "markdown",
      "metadata": {
        "id": "dzynfVJahHoY"
      },
      "source": [
        "Modelo para el espacio de soluciones<br>\n",
        "(*) ¿Cual es la estructura de datos que mejor se adapta al problema? Argumentalo.(Es posible que hayas elegido una al principio y veas la necesidad de cambiar, arguentalo)\n"
      ]
    },
    {
      "cell_type": "markdown",
      "metadata": {
        "id": "xFIJrOwKi2Ti"
      },
      "source": [
        "Respuesta"
      ]
    },
    {
      "cell_type": "code",
      "metadata": {
        "id": "38c-7-ejhJmA"
      },
      "source": [],
      "execution_count": null,
      "outputs": []
    },
    {
      "cell_type": "markdown",
      "metadata": {
        "id": "7Z9U2W7bi-XS"
      },
      "source": [
        "Según el modelo para el espacio de soluciones<br>\n",
        "(*)¿Cual es la función objetivo?\n",
        "\n",
        "(*)¿Es un problema de maximización o minimización?"
      ]
    },
    {
      "cell_type": "markdown",
      "metadata": {
        "id": "hBalWLM7j1_d"
      },
      "source": [
        "Respuesta"
      ]
    },
    {
      "cell_type": "code",
      "metadata": {
        "id": "pDA-rg3Gj5Lz"
      },
      "source": [],
      "execution_count": null,
      "outputs": []
    },
    {
      "cell_type": "markdown",
      "metadata": {
        "id": "rlnTYgY1j6I2"
      },
      "source": [
        "Diseña un algoritmo para resolver el problema por fuerza bruta"
      ]
    },
    {
      "cell_type": "markdown",
      "metadata": {
        "id": "70rDgxYXkC8r"
      },
      "source": [
        "Respuesta"
      ]
    },
    {
      "cell_type": "code",
      "metadata": {
        "id": "CJb5sQ0qkENy",
        "colab": {
          "base_uri": "https://localhost:8080/"
        },
        "outputId": "3120f28a-9266-4fd9-f0fc-39efc0c1fab9"
      },
      "source": [
        "\"\"\"4 + 2 - 6 /3 * 1 = 4\"\"\"\n",
        "\n",
        "def work(numero_deseado,todas_opciones=False):\n",
        "  opciones_numeros={str(a) for a in range(1,10)}\n",
        "  opciones_operaciones={\"+\",\"-\",\"*\",\"/\"}\n",
        "  expresiones=[]\n",
        "  for num1 in opciones_numeros:\n",
        "    for opc1 in opciones_operaciones:\n",
        "      for num2 in [a for a in opciones_numeros if a not in [num1]]:\n",
        "        for opc2 in [a for a in opciones_operaciones if a not in [opc1]]:\n",
        "          for num3 in [a for a in opciones_numeros if a not in [num1,num2]]:\n",
        "            for opc3 in [a for a in opciones_operaciones if a not in [opc1,opc2]]:\n",
        "              for num4 in [a for a in opciones_numeros if a not in [num1,num2,num3]]:\n",
        "                for opc4 in [a for a in opciones_operaciones if a not in [opc1,opc2,opc3]]:\n",
        "                  for num5 in [a for a in opciones_numeros if a not in [num1,num2,num3,num4]]:\n",
        "                    expresion= num1+opc1+num2+opc2+num3+opc3+num4+opc4+num5\n",
        "                    if(eval(expresion)==numero_deseado):\n",
        "                      if (todas_opciones):\n",
        "                        expresiones.append(expresion)\n",
        "                      else:\n",
        "                        if(eval(expresion)==numero_deseado):\n",
        "                          return(expresion)\n",
        "  return(expresiones)\n",
        "numero_deseado=45\n",
        "solucion=work(numero_deseado,todas_opciones=True)\n",
        "for sol in solucion:\n",
        "  print(\"La solucion posible es : %s\"%sol)\n"
      ],
      "execution_count": 11,
      "outputs": [
        {
          "output_type": "stream",
          "name": "stdout",
          "text": [
            "La solucion posible es : 2/1+6*8-5\n",
            "La solucion posible es : 2/1+8*6-5\n",
            "La solucion posible es : 2/1-5+6*8\n",
            "La solucion posible es : 2/1-5+8*6\n",
            "La solucion posible es : 2+6/1*8-5\n",
            "La solucion posible es : 2+6*8/1-5\n",
            "La solucion posible es : 2+6*8-5/1\n",
            "La solucion posible es : 2+9*5-6/3\n",
            "La solucion posible es : 2+9*5-8/4\n",
            "La solucion posible es : 2+5*9-6/3\n",
            "La solucion posible es : 2+5*9-8/4\n",
            "La solucion posible es : 2+8/1*6-5\n",
            "La solucion posible es : 2+8*6/1-5\n",
            "La solucion posible es : 2+8*6-5/1\n",
            "La solucion posible es : 2-6/3+9*5\n",
            "La solucion posible es : 2-6/3+5*9\n",
            "La solucion posible es : 2-5/1+6*8\n",
            "La solucion posible es : 2-5/1+8*6\n",
            "La solucion posible es : 2-5+6/1*8\n",
            "La solucion posible es : 2-5+6*8/1\n",
            "La solucion posible es : 2-5+8/1*6\n",
            "La solucion posible es : 2-5+8*6/1\n",
            "La solucion posible es : 2-8/4+9*5\n",
            "La solucion posible es : 2-8/4+5*9\n",
            "La solucion posible es : 6/2+9*5-3\n",
            "La solucion posible es : 6/2+5*9-3\n",
            "La solucion posible es : 6/2-3+9*5\n",
            "La solucion posible es : 6/2-3+5*9\n",
            "La solucion posible es : 6/1*8+2-5\n",
            "La solucion posible es : 6/1*8+4-7\n",
            "La solucion posible es : 6/1*8-5+2\n",
            "La solucion posible es : 6/1*8-7+4\n",
            "La solucion posible es : 6/1*7+5-2\n",
            "La solucion posible es : 6/1*7+8-5\n",
            "La solucion posible es : 6/1*7-2+5\n",
            "La solucion posible es : 6/1*7-5+8\n",
            "La solucion posible es : 6/3+9*5-2\n",
            "La solucion posible es : 6/3+5*9-2\n",
            "La solucion posible es : 6/3-2+9*5\n",
            "La solucion posible es : 6/3-2+5*9\n",
            "La solucion posible es : 6*8/1+2-5\n",
            "La solucion posible es : 6*8/1+4-7\n",
            "La solucion posible es : 6*8/1-5+2\n",
            "La solucion posible es : 6*8/1-7+4\n",
            "La solucion posible es : 6*8+2/1-5\n",
            "La solucion posible es : 6*8+2-5/1\n",
            "La solucion posible es : 6*8+4/2-5\n",
            "La solucion posible es : 6*8+4/1-7\n",
            "La solucion posible es : 6*8+4-7/1\n",
            "La solucion posible es : 6*8-5/1+2\n",
            "La solucion posible es : 6*8-5+2/1\n",
            "La solucion posible es : 6*8-5+4/2\n",
            "La solucion posible es : 6*8-7/1+4\n",
            "La solucion posible es : 6*8-7+4/1\n",
            "La solucion posible es : 6*7/1+5-2\n",
            "La solucion posible es : 6*7/1+8-5\n",
            "La solucion posible es : 6*7/1-2+5\n",
            "La solucion posible es : 6*7/1-5+8\n",
            "La solucion posible es : 6*7+5/1-2\n",
            "La solucion posible es : 6*7+5-2/1\n",
            "La solucion posible es : 6*7+5-8/4\n",
            "La solucion posible es : 6*7+5-4/2\n",
            "La solucion posible es : 6*7+8/2-1\n",
            "La solucion posible es : 6*7+8/1-5\n",
            "La solucion posible es : 6*7+8-5/1\n",
            "La solucion posible es : 6*7-2/1+5\n",
            "La solucion posible es : 6*7-2+5/1\n",
            "La solucion posible es : 6*7-5/1+8\n",
            "La solucion posible es : 6*7-5+8/1\n",
            "La solucion posible es : 6*7-8/4+5\n",
            "La solucion posible es : 6*7-4/2+5\n",
            "La solucion posible es : 6*7-1+8/2\n",
            "La solucion posible es : 9/1+5*8-4\n",
            "La solucion posible es : 9/1+8*5-4\n",
            "La solucion posible es : 9/1-4+5*8\n",
            "La solucion posible es : 9/1-4+8*5\n",
            "La solucion posible es : 9*5+2-6/3\n",
            "La solucion posible es : 9*5+2-8/4\n",
            "La solucion posible es : 9*5+6/2-3\n",
            "La solucion posible es : 9*5+6/3-2\n",
            "La solucion posible es : 9*5+8/2-4\n",
            "La solucion posible es : 9*5+8/4-2\n",
            "La solucion posible es : 9*5+4-8/2\n",
            "La solucion posible es : 9*5+3-6/2\n",
            "La solucion posible es : 9*5-2+6/3\n",
            "La solucion posible es : 9*5-2+8/4\n",
            "La solucion posible es : 9*5-6/2+3\n",
            "La solucion posible es : 9*5-6/3+2\n",
            "La solucion posible es : 9*5-8/2+4\n",
            "La solucion posible es : 9*5-8/4+2\n",
            "La solucion posible es : 9*5-4+8/2\n",
            "La solucion posible es : 9*5-3+6/2\n",
            "La solucion posible es : 9+5/1*8-4\n",
            "La solucion posible es : 9+5*8/1-4\n",
            "La solucion posible es : 9+5*8-4/1\n",
            "La solucion posible es : 9+8/1*5-4\n",
            "La solucion posible es : 9+8*5/1-4\n",
            "La solucion posible es : 9+8*5-4/1\n",
            "La solucion posible es : 9-4/1+5*8\n",
            "La solucion posible es : 9-4/1+8*5\n",
            "La solucion posible es : 9-4+5/1*8\n",
            "La solucion posible es : 9-4+5*8/1\n",
            "La solucion posible es : 9-4+8/1*5\n",
            "La solucion posible es : 9-4+8*5/1\n",
            "La solucion posible es : 5/1*8+9-4\n",
            "La solucion posible es : 5/1*8+7-2\n",
            "La solucion posible es : 5/1*8-2+7\n",
            "La solucion posible es : 5/1*8-4+9\n",
            "La solucion posible es : 5/1+6*7-2\n",
            "La solucion posible es : 5/1+7*6-2\n",
            "La solucion posible es : 5/1-2+6*7\n",
            "La solucion posible es : 5/1-2+7*6\n",
            "La solucion posible es : 5*9+2-6/3\n",
            "La solucion posible es : 5*9+2-8/4\n",
            "La solucion posible es : 5*9+6/2-3\n",
            "La solucion posible es : 5*9+6/3-2\n",
            "La solucion posible es : 5*9+8/2-4\n",
            "La solucion posible es : 5*9+8/4-2\n",
            "La solucion posible es : 5*9+4-8/2\n",
            "La solucion posible es : 5*9+3-6/2\n",
            "La solucion posible es : 5*9-2+6/3\n",
            "La solucion posible es : 5*9-2+8/4\n",
            "La solucion posible es : 5*9-6/2+3\n",
            "La solucion posible es : 5*9-6/3+2\n",
            "La solucion posible es : 5*9-8/2+4\n",
            "La solucion posible es : 5*9-8/4+2\n",
            "La solucion posible es : 5*9-4+8/2\n",
            "La solucion posible es : 5*9-3+6/2\n",
            "La solucion posible es : 5*8/1+9-4\n",
            "La solucion posible es : 5*8/1+7-2\n",
            "La solucion posible es : 5*8/1-2+7\n",
            "La solucion posible es : 5*8/1-4+9\n",
            "La solucion posible es : 5*8+9/1-4\n",
            "La solucion posible es : 5*8+9-4/1\n",
            "La solucion posible es : 5*8+7/1-2\n",
            "La solucion posible es : 5*8+7-2/1\n",
            "La solucion posible es : 5*8+7-6/3\n",
            "La solucion posible es : 5*8+7-4/2\n",
            "La solucion posible es : 5*8-2/1+7\n",
            "La solucion posible es : 5*8-2+7/1\n",
            "La solucion posible es : 5*8-6/3+7\n",
            "La solucion posible es : 5*8-4/2+7\n",
            "La solucion posible es : 5*8-4/1+9\n",
            "La solucion posible es : 5*8-4+9/1\n",
            "La solucion posible es : 5+6/1*7-2\n",
            "La solucion posible es : 5+6*7/1-2\n",
            "La solucion posible es : 5+6*7-2/1\n",
            "La solucion posible es : 5+6*7-8/4\n",
            "La solucion posible es : 5+6*7-4/2\n",
            "La solucion posible es : 5+7/1*6-2\n",
            "La solucion posible es : 5+7*6/1-2\n",
            "La solucion posible es : 5+7*6-2/1\n",
            "La solucion posible es : 5+7*6-8/4\n",
            "La solucion posible es : 5+7*6-4/2\n",
            "La solucion posible es : 5-2/1+6*7\n",
            "La solucion posible es : 5-2/1+7*6\n",
            "La solucion posible es : 5-2+6/1*7\n",
            "La solucion posible es : 5-2+6*7/1\n",
            "La solucion posible es : 5-2+7/1*6\n",
            "La solucion posible es : 5-2+7*6/1\n",
            "La solucion posible es : 5-8/4+6*7\n",
            "La solucion posible es : 5-8/4+7*6\n",
            "La solucion posible es : 5-4/2+6*7\n",
            "La solucion posible es : 5-4/2+7*6\n",
            "La solucion posible es : 8/2+6*7-1\n",
            "La solucion posible es : 8/2+9*5-4\n",
            "La solucion posible es : 8/2+5*9-4\n",
            "La solucion posible es : 8/2+7*6-1\n",
            "La solucion posible es : 8/2-4+9*5\n",
            "La solucion posible es : 8/2-4+5*9\n",
            "La solucion posible es : 8/2-1+6*7\n",
            "La solucion posible es : 8/2-1+7*6\n",
            "La solucion posible es : 8/4+9*5-2\n",
            "La solucion posible es : 8/4+5*9-2\n",
            "La solucion posible es : 8/4-2+9*5\n",
            "La solucion posible es : 8/4-2+5*9\n",
            "La solucion posible es : 8/1*6+2-5\n",
            "La solucion posible es : 8/1*6+4-7\n",
            "La solucion posible es : 8/1*6-5+2\n",
            "La solucion posible es : 8/1*6-7+4\n",
            "La solucion posible es : 8/1*5+9-4\n",
            "La solucion posible es : 8/1*5+7-2\n",
            "La solucion posible es : 8/1*5-2+7\n",
            "La solucion posible es : 8/1*5-4+9\n",
            "La solucion posible es : 8/1+6*7-5\n",
            "La solucion posible es : 8/1+7*6-5\n",
            "La solucion posible es : 8/1-5+6*7\n",
            "La solucion posible es : 8/1-5+7*6\n",
            "La solucion posible es : 8*6/1+2-5\n",
            "La solucion posible es : 8*6/1+4-7\n",
            "La solucion posible es : 8*6/1-5+2\n",
            "La solucion posible es : 8*6/1-7+4\n",
            "La solucion posible es : 8*6+2/1-5\n",
            "La solucion posible es : 8*6+2-5/1\n",
            "La solucion posible es : 8*6+4/2-5\n",
            "La solucion posible es : 8*6+4/1-7\n",
            "La solucion posible es : 8*6+4-7/1\n",
            "La solucion posible es : 8*6-5/1+2\n",
            "La solucion posible es : 8*6-5+2/1\n",
            "La solucion posible es : 8*6-5+4/2\n",
            "La solucion posible es : 8*6-7/1+4\n",
            "La solucion posible es : 8*6-7+4/1\n",
            "La solucion posible es : 8*5/1+9-4\n",
            "La solucion posible es : 8*5/1+7-2\n",
            "La solucion posible es : 8*5/1-2+7\n",
            "La solucion posible es : 8*5/1-4+9\n",
            "La solucion posible es : 8*5+9/1-4\n",
            "La solucion posible es : 8*5+9-4/1\n",
            "La solucion posible es : 8*5+7/1-2\n",
            "La solucion posible es : 8*5+7-2/1\n",
            "La solucion posible es : 8*5+7-6/3\n",
            "La solucion posible es : 8*5+7-4/2\n",
            "La solucion posible es : 8*5-2/1+7\n",
            "La solucion posible es : 8*5-2+7/1\n",
            "La solucion posible es : 8*5-6/3+7\n",
            "La solucion posible es : 8*5-4/2+7\n",
            "La solucion posible es : 8*5-4/1+9\n",
            "La solucion posible es : 8*5-4+9/1\n",
            "La solucion posible es : 8+6/1*7-5\n",
            "La solucion posible es : 8+6*7/1-5\n",
            "La solucion posible es : 8+6*7-5/1\n",
            "La solucion posible es : 8+7/1*6-5\n",
            "La solucion posible es : 8+7*6/1-5\n",
            "La solucion posible es : 8+7*6-5/1\n",
            "La solucion posible es : 8-5/1+6*7\n",
            "La solucion posible es : 8-5/1+7*6\n",
            "La solucion posible es : 8-5+6/1*7\n",
            "La solucion posible es : 8-5+6*7/1\n",
            "La solucion posible es : 8-5+7/1*6\n",
            "La solucion posible es : 8-5+7*6/1\n",
            "La solucion posible es : 7/1*6+5-2\n",
            "La solucion posible es : 7/1*6+8-5\n",
            "La solucion posible es : 7/1*6-2+5\n",
            "La solucion posible es : 7/1*6-5+8\n",
            "La solucion posible es : 7/1+5*8-2\n",
            "La solucion posible es : 7/1+8*5-2\n",
            "La solucion posible es : 7/1-2+5*8\n",
            "La solucion posible es : 7/1-2+8*5\n",
            "La solucion posible es : 7*6/1+5-2\n",
            "La solucion posible es : 7*6/1+8-5\n",
            "La solucion posible es : 7*6/1-2+5\n",
            "La solucion posible es : 7*6/1-5+8\n",
            "La solucion posible es : 7*6+5/1-2\n",
            "La solucion posible es : 7*6+5-2/1\n",
            "La solucion posible es : 7*6+5-8/4\n",
            "La solucion posible es : 7*6+5-4/2\n",
            "La solucion posible es : 7*6+8/2-1\n",
            "La solucion posible es : 7*6+8/1-5\n",
            "La solucion posible es : 7*6+8-5/1\n",
            "La solucion posible es : 7*6-2/1+5\n",
            "La solucion posible es : 7*6-2+5/1\n",
            "La solucion posible es : 7*6-5/1+8\n",
            "La solucion posible es : 7*6-5+8/1\n",
            "La solucion posible es : 7*6-8/4+5\n",
            "La solucion posible es : 7*6-4/2+5\n",
            "La solucion posible es : 7*6-1+8/2\n",
            "La solucion posible es : 7+5/1*8-2\n",
            "La solucion posible es : 7+5*8/1-2\n",
            "La solucion posible es : 7+5*8-2/1\n",
            "La solucion posible es : 7+5*8-6/3\n",
            "La solucion posible es : 7+5*8-4/2\n",
            "La solucion posible es : 7+8/1*5-2\n",
            "La solucion posible es : 7+8*5/1-2\n",
            "La solucion posible es : 7+8*5-2/1\n",
            "La solucion posible es : 7+8*5-6/3\n",
            "La solucion posible es : 7+8*5-4/2\n",
            "La solucion posible es : 7-2/1+5*8\n",
            "La solucion posible es : 7-2/1+8*5\n",
            "La solucion posible es : 7-2+5/1*8\n",
            "La solucion posible es : 7-2+5*8/1\n",
            "La solucion posible es : 7-2+8/1*5\n",
            "La solucion posible es : 7-2+8*5/1\n",
            "La solucion posible es : 7-6/3+5*8\n",
            "La solucion posible es : 7-6/3+8*5\n",
            "La solucion posible es : 7-4/2+5*8\n",
            "La solucion posible es : 7-4/2+8*5\n",
            "La solucion posible es : 4/2+6*8-5\n",
            "La solucion posible es : 4/2+8*6-5\n",
            "La solucion posible es : 4/2-5+6*8\n",
            "La solucion posible es : 4/2-5+8*6\n",
            "La solucion posible es : 4/1+6*8-7\n",
            "La solucion posible es : 4/1+8*6-7\n",
            "La solucion posible es : 4/1-7+6*8\n",
            "La solucion posible es : 4/1-7+8*6\n",
            "La solucion posible es : 4+6/1*8-7\n",
            "La solucion posible es : 4+6*8/1-7\n",
            "La solucion posible es : 4+6*8-7/1\n",
            "La solucion posible es : 4+9*5-8/2\n",
            "La solucion posible es : 4+5*9-8/2\n",
            "La solucion posible es : 4+8/1*6-7\n",
            "La solucion posible es : 4+8*6/1-7\n",
            "La solucion posible es : 4+8*6-7/1\n",
            "La solucion posible es : 4-8/2+9*5\n",
            "La solucion posible es : 4-8/2+5*9\n",
            "La solucion posible es : 4-7/1+6*8\n",
            "La solucion posible es : 4-7/1+8*6\n",
            "La solucion posible es : 4-7+6/1*8\n",
            "La solucion posible es : 4-7+6*8/1\n",
            "La solucion posible es : 4-7+8/1*6\n",
            "La solucion posible es : 4-7+8*6/1\n",
            "La solucion posible es : 3+9*5-6/2\n",
            "La solucion posible es : 3+5*9-6/2\n",
            "La solucion posible es : 3-6/2+9*5\n",
            "La solucion posible es : 3-6/2+5*9\n"
          ]
        }
      ]
    },
    {
      "cell_type": "markdown",
      "metadata": {
        "id": "tgrnsC2nkFa8"
      },
      "source": [
        "Calcula la complejidad del algoritmo por fuerza bruta"
      ]
    },
    {
      "cell_type": "markdown",
      "metadata": {
        "id": "9eUd3xwckP68"
      },
      "source": [
        "Respuesta"
      ]
    },
    {
      "cell_type": "code",
      "metadata": {
        "id": "rvZWwL-ckRST"
      },
      "source": [
        "En fuerza bruta asciende a O(n^5 * m^4) ya que son 5 elecciones para numero (n) y 4 elecciones para operador (m)"
      ],
      "execution_count": null,
      "outputs": []
    },
    {
      "cell_type": "markdown",
      "metadata": {
        "id": "txbrmLmskReM"
      },
      "source": [
        "(*)Diseña un algoritmo que mejore la complejidad del algortimo por fuerza bruta. Argumenta porque crees que mejora el algoritmo por fuerza bruta"
      ]
    },
    {
      "cell_type": "markdown",
      "metadata": {
        "id": "hLrVwt5QkZPD"
      },
      "source": [
        "Respuesta"
      ]
    },
    {
      "cell_type": "code",
      "metadata": {
        "id": "m1eyM21Vkabg"
      },
      "source": [],
      "execution_count": null,
      "outputs": []
    },
    {
      "cell_type": "markdown",
      "metadata": {
        "id": "eGDB4K6uk1iN"
      },
      "source": [
        "(*)Calcula la complejidad del algoritmo"
      ]
    },
    {
      "cell_type": "markdown",
      "metadata": {
        "id": "NhpTh_BPk1ms"
      },
      "source": [
        "Respuesta"
      ]
    },
    {
      "cell_type": "code",
      "metadata": {
        "id": "nREzhkStlCq8"
      },
      "source": [],
      "execution_count": null,
      "outputs": []
    },
    {
      "cell_type": "markdown",
      "metadata": {
        "id": "3M6QjTsSkmYe"
      },
      "source": [
        "Según el problema (y tenga sentido), diseña un juego de datos de entrada aleatorios"
      ]
    },
    {
      "cell_type": "markdown",
      "metadata": {
        "id": "Jc3_OlyNkvjZ"
      },
      "source": [
        "Respuesta"
      ]
    },
    {
      "cell_type": "code",
      "metadata": {
        "id": "sJ-N2etjkyWc"
      },
      "source": [],
      "execution_count": null,
      "outputs": []
    },
    {
      "cell_type": "markdown",
      "metadata": {
        "id": "zy5ZROmjlGo1"
      },
      "source": [
        "Aplica el algoritmo al juego de datos generado"
      ]
    },
    {
      "cell_type": "markdown",
      "metadata": {
        "id": "_Cmj-PVylMsa"
      },
      "source": [
        "Respuesta"
      ]
    },
    {
      "cell_type": "code",
      "metadata": {
        "id": "Jkx8GeiYlUz1"
      },
      "source": [],
      "execution_count": null,
      "outputs": []
    },
    {
      "cell_type": "markdown",
      "metadata": {
        "id": "eTFWUJQrtGcv"
      },
      "source": [
        "Enumera las referencias que has utilizado(si ha sido necesario) para llevar a cabo el trabajo"
      ]
    },
    {
      "cell_type": "markdown",
      "metadata": {
        "id": "YKQ_mRBttWsP"
      },
      "source": [
        "Respuesta"
      ]
    },
    {
      "cell_type": "markdown",
      "metadata": {
        "id": "kAkDPUyRtYyH"
      },
      "source": [
        "Describe brevemente las lineas de como crees que es posible avanzar en el estudio del problema. Ten en cuenta incluso posibles variaciones del problema y/o variaciones al alza del tamaño"
      ]
    },
    {
      "cell_type": "markdown",
      "metadata": {
        "id": "IE0uZmo-tZu-"
      },
      "source": [
        "Respuesta"
      ]
    }
  ]
}