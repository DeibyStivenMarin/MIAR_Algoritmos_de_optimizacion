{
  "nbformat": 4,
  "nbformat_minor": 0,
  "metadata": {
    "colab": {
      "provenance": [],
      "include_colab_link": true
    },
    "kernelspec": {
      "name": "python3",
      "display_name": "Python 3"
    }
  },
  "cells": [
    {
      "cell_type": "markdown",
      "metadata": {
        "id": "view-in-github",
        "colab_type": "text"
      },
      "source": [
        "<a href=\"https://colab.research.google.com/github/DeibyStivenMarin/MIAR_Algoritmos_de_optimizacion/blob/main/Deiby_Marin_Seminario_Algoritmos.ipynb\" target=\"_parent\"><img src=\"https://colab.research.google.com/assets/colab-badge.svg\" alt=\"Open In Colab\"/></a>"
      ]
    },
    {
      "cell_type": "markdown",
      "metadata": {
        "id": "hVbXYX-RfPWh"
      },
      "source": [
        "# Algoritmos de optimización - Seminario<br>\n",
        "Nombre y Apellidos: Deiby Stiven Marin Garcia  <br>\n",
        "Url: https://github.com/DeibyStivenMarin/MIAR_Algoritmos_de_optimizacion/blob/main/Deiby_Marin_Seminario_Algoritmos.ipynb<br>\n",
        "Problema:\n",
        ">3. Combinar cifras y operaciones\n",
        "\n",
        "• El problema consiste en analizar el siguiente problema y diseñar un algoritmo que lo resuelva.<br>\n",
        "• Disponemos de las 9 cifras del 1 al 9 (excluimos el cero) y de los 4 signos básicos de las\n",
        "operaciones fundamentales: suma(+), resta(-), multiplicación(*) y división(/)<br>\n",
        "• Debemos combinarlos alternativamente sin repetir ninguno de ellos para obtener una\n",
        "cantidad dada.<br>\n",
        "Un ejemplo sería para obtener el 4:<br>\n",
        "4 + 2 - 6 /3 * 1 = 4\n",
        "\n",
        "(*) La respuesta es obligatoria\n",
        "\n",
        "\n",
        "\n",
        "\n",
        "\n",
        "                                        "
      ]
    },
    {
      "cell_type": "code",
      "metadata": {
        "id": "AiskKkzZfy4e"
      },
      "source": [],
      "execution_count": null,
      "outputs": []
    },
    {
      "cell_type": "markdown",
      "metadata": {
        "id": "3_-exlrTgLd-"
      },
      "source": [
        "(*)¿Cuantas posibilidades hay sin tener en cuenta las restricciones?<br>\n",
        "\n",
        "\n",
        "\n",
        "¿Cuantas posibilidades hay teniendo en cuenta todas las restricciones.\n",
        "\n",
        "\n"
      ]
    },
    {
      "cell_type": "markdown",
      "metadata": {
        "id": "WfCUqJyKhPcw"
      },
      "source": [
        "Respuesta"
      ]
    },
    {
      "cell_type": "code",
      "metadata": {
        "id": "iq6Fe32MgpDX"
      },
      "source": [
        "Sin tener restricciones seria 9^5 * 4^4 = 15.116.544"
      ],
      "execution_count": null,
      "outputs": []
    },
    {
      "cell_type": "code",
      "source": [
        "Con restricciones es (9 * 8 * 7 * 6 * 5 ) * (4 * 3 * 2 * 1) = 362.880"
      ],
      "metadata": {
        "id": "zxl0EfgeMCl2"
      },
      "execution_count": null,
      "outputs": []
    },
    {
      "cell_type": "markdown",
      "source": [],
      "metadata": {
        "id": "sy1nMe0VM4ef"
      }
    },
    {
      "cell_type": "markdown",
      "metadata": {
        "id": "dzynfVJahHoY"
      },
      "source": [
        "Modelo para el espacio de soluciones<br>\n",
        "(*) ¿Cual es la estructura de datos que mejor se adapta al problema? Argumentalo.(Es posible que hayas elegido una al principio y veas la necesidad de cambiar, arguentalo)\n"
      ]
    },
    {
      "cell_type": "markdown",
      "metadata": {
        "id": "xFIJrOwKi2Ti"
      },
      "source": [
        "Respuesta"
      ]
    },
    {
      "cell_type": "code",
      "metadata": {
        "id": "38c-7-ejhJmA"
      },
      "source": [
        "\n",
        "La estructura de datos es de tipo árbol ya que se va aumentado el tamaño conforme se va avanzando en la construcción de la expresión."
      ],
      "execution_count": null,
      "outputs": []
    },
    {
      "cell_type": "markdown",
      "metadata": {
        "id": "7Z9U2W7bi-XS"
      },
      "source": [
        "Según el modelo para el espacio de soluciones<br>\n",
        "(*)¿Cual es la función objetivo?\n",
        "\n",
        "(*)¿Es un problema de maximización o minimización?"
      ]
    },
    {
      "cell_type": "markdown",
      "metadata": {
        "id": "hBalWLM7j1_d"
      },
      "source": [
        "Respuesta"
      ]
    },
    {
      "cell_type": "code",
      "metadata": {
        "id": "pDA-rg3Gj5Lz"
      },
      "source": [
        "La funcion objetivo es verificar expresion que evalua que se cumpla la expresion\n",
        "Es un problema de valor exacto"
      ],
      "execution_count": null,
      "outputs": []
    },
    {
      "cell_type": "markdown",
      "metadata": {
        "id": "rlnTYgY1j6I2"
      },
      "source": [
        "Diseña un algoritmo para resolver el problema por fuerza bruta"
      ]
    },
    {
      "cell_type": "markdown",
      "metadata": {
        "id": "70rDgxYXkC8r"
      },
      "source": [
        "Respuesta"
      ]
    },
    {
      "cell_type": "code",
      "metadata": {
        "id": "CJb5sQ0qkENy",
        "colab": {
          "base_uri": "https://localhost:8080/"
        },
        "outputId": "92fd32cd-58d7-45c0-cced-e842fd26b0fc"
      },
      "source": [
        "\"\"\"\n",
        "Fuerza Burta pura, se emplean todas las posibles opciones y al final de cada\n",
        "ciclo se evalua si cumple las restricciones y el valor deseado\n",
        "\"\"\"\n",
        "import time\n",
        "\n",
        "\n",
        "\n",
        "def verificar_expresion(expresion,num_deseado): #funcion objetivo\n",
        "  expresion_f=\"\"\n",
        "  for caracter in expresion: #elimina duplicados\n",
        "    if caracter not in expresion_f:\n",
        "        expresion_f += caracter\n",
        "  if(len(expresion_f)==9): #solo expresiones validas\n",
        "    if(eval(expresion_f)==num_deseado): #si concuerda el valor deseado\n",
        "        return True\n",
        "  else:\n",
        "    return False\n",
        "\n",
        "def work(numero_deseado,todas_opciones=False):\n",
        "  opciones_numeros={str(a) for a in range(1,10)}\n",
        "  opciones_operaciones={\"+\",\"-\",\"*\",\"/\"}\n",
        "  expresiones=[]\n",
        "  for num1 in opciones_numeros:\n",
        "    for opc1 in opciones_operaciones:\n",
        "      for num2 in opciones_numeros:\n",
        "        for opc2 in opciones_operaciones:\n",
        "          for num3 in opciones_numeros:\n",
        "            for opc3 in opciones_operaciones:\n",
        "              for num4 in opciones_numeros:\n",
        "                for opc4 in opciones_operaciones:\n",
        "                  for num5 in opciones_numeros:\n",
        "                    expresion= num1+opc1+num2+opc2+num3+opc3+num4+opc4+num5\n",
        "                    if(verificar_expresion(expresion,numero_deseado)):\n",
        "                      expresiones.append(expresion)\n",
        "                      if (not todas_opciones):\n",
        "                        return(expresiones)\n",
        "  return(expresiones)\n",
        "numero_deseado=45\n",
        "inicio = time.time() # tiempo inicial\n",
        "solucion=work(numero_deseado,todas_opciones=True)\n",
        "fin = time.time() #tiempo final\n",
        "for sol in solucion:\n",
        "  print(\"La solucion posible es : %s\"%sol)\n",
        "\n",
        "print(f\"Tiempo de ejecución: {fin - inicio} segundos\")"
      ],
      "execution_count": 23,
      "outputs": [
        {
          "output_type": "stream",
          "name": "stdout",
          "text": [
            "La solucion posible es : 8*5+7/1-2\n",
            "La solucion posible es : 8*5+7-4/2\n",
            "La solucion posible es : 8*5+7-2/1\n",
            "La solucion posible es : 8*5+7-6/3\n",
            "La solucion posible es : 8*5+9/1-4\n",
            "La solucion posible es : 8*5+9-4/1\n",
            "La solucion posible es : 8*5/1+7-2\n",
            "La solucion posible es : 8*5/1+9-4\n",
            "La solucion posible es : 8*5/1-4+9\n",
            "La solucion posible es : 8*5/1-2+7\n",
            "La solucion posible es : 8*5-4+9/1\n",
            "La solucion posible es : 8*5-4/2+7\n",
            "La solucion posible es : 8*5-4/1+9\n",
            "La solucion posible es : 8*5-2+7/1\n",
            "La solucion posible es : 8*5-2/1+7\n",
            "La solucion posible es : 8*5-6/3+7\n",
            "La solucion posible es : 8*6+4/2-5\n",
            "La solucion posible es : 8*6+4/1-7\n",
            "La solucion posible es : 8*6+4-7/1\n",
            "La solucion posible es : 8*6+2/1-5\n",
            "La solucion posible es : 8*6+2-5/1\n",
            "La solucion posible es : 8*6/1+4-7\n",
            "La solucion posible es : 8*6/1+2-5\n",
            "La solucion posible es : 8*6/1-7+4\n",
            "La solucion posible es : 8*6/1-5+2\n",
            "La solucion posible es : 8*6-7+4/1\n",
            "La solucion posible es : 8*6-7/1+4\n",
            "La solucion posible es : 8*6-5+4/2\n",
            "La solucion posible es : 8*6-5+2/1\n",
            "La solucion posible es : 8*6-5/1+2\n",
            "La solucion posible es : 8+7*6/1-5\n",
            "La solucion posible es : 8+7*6-5/1\n",
            "La solucion posible es : 8+7/1*6-5\n",
            "La solucion posible es : 8+6*7/1-5\n",
            "La solucion posible es : 8+6*7-5/1\n",
            "La solucion posible es : 8+6/1*7-5\n",
            "La solucion posible es : 8/4+5*9-2\n",
            "La solucion posible es : 8/4+9*5-2\n",
            "La solucion posible es : 8/4-2+5*9\n",
            "La solucion posible es : 8/4-2+9*5\n",
            "La solucion posible es : 8/2+7*6-1\n",
            "La solucion posible es : 8/2+5*9-4\n",
            "La solucion posible es : 8/2+9*5-4\n",
            "La solucion posible es : 8/2+6*7-1\n",
            "La solucion posible es : 8/2-4+5*9\n",
            "La solucion posible es : 8/2-4+9*5\n",
            "La solucion posible es : 8/2-1+7*6\n",
            "La solucion posible es : 8/2-1+6*7\n",
            "La solucion posible es : 8/1*5+7-2\n",
            "La solucion posible es : 8/1*5+9-4\n",
            "La solucion posible es : 8/1*5-4+9\n",
            "La solucion posible es : 8/1*5-2+7\n",
            "La solucion posible es : 8/1*6+4-7\n",
            "La solucion posible es : 8/1*6+2-5\n",
            "La solucion posible es : 8/1*6-7+4\n",
            "La solucion posible es : 8/1*6-5+2\n",
            "La solucion posible es : 8/1+7*6-5\n",
            "La solucion posible es : 8/1+6*7-5\n",
            "La solucion posible es : 8/1-5+7*6\n",
            "La solucion posible es : 8/1-5+6*7\n",
            "La solucion posible es : 8-5+7*6/1\n",
            "La solucion posible es : 8-5+7/1*6\n",
            "La solucion posible es : 8-5+6*7/1\n",
            "La solucion posible es : 8-5+6/1*7\n",
            "La solucion posible es : 8-5/1+7*6\n",
            "La solucion posible es : 8-5/1+6*7\n",
            "La solucion posible es : 4+8*6/1-7\n",
            "La solucion posible es : 4+8*6-7/1\n",
            "La solucion posible es : 4+8/1*6-7\n",
            "La solucion posible es : 4+5*9-8/2\n",
            "La solucion posible es : 4+9*5-8/2\n",
            "La solucion posible es : 4+6*8/1-7\n",
            "La solucion posible es : 4+6*8-7/1\n",
            "La solucion posible es : 4+6/1*8-7\n",
            "La solucion posible es : 4/2+8*6-5\n",
            "La solucion posible es : 4/2+6*8-5\n",
            "La solucion posible es : 4/2-5+8*6\n",
            "La solucion posible es : 4/2-5+6*8\n",
            "La solucion posible es : 4/1+8*6-7\n",
            "La solucion posible es : 4/1+6*8-7\n",
            "La solucion posible es : 4/1-7+8*6\n",
            "La solucion posible es : 4/1-7+6*8\n",
            "La solucion posible es : 4-8/2+5*9\n",
            "La solucion posible es : 4-8/2+9*5\n",
            "La solucion posible es : 4-7+8*6/1\n",
            "La solucion posible es : 4-7+8/1*6\n",
            "La solucion posible es : 4-7+6*8/1\n",
            "La solucion posible es : 4-7+6/1*8\n",
            "La solucion posible es : 4-7/1+8*6\n",
            "La solucion posible es : 4-7/1+6*8\n",
            "La solucion posible es : 7*6+8/2-1\n",
            "La solucion posible es : 7*6+8/1-5\n",
            "La solucion posible es : 7*6+8-5/1\n",
            "La solucion posible es : 7*6+5/1-2\n",
            "La solucion posible es : 7*6+5-8/4\n",
            "La solucion posible es : 7*6+5-4/2\n",
            "La solucion posible es : 7*6+5-2/1\n",
            "La solucion posible es : 7*6/1+8-5\n",
            "La solucion posible es : 7*6/1+5-2\n",
            "La solucion posible es : 7*6/1-5+8\n",
            "La solucion posible es : 7*6/1-2+5\n",
            "La solucion posible es : 7*6-8/4+5\n",
            "La solucion posible es : 7*6-4/2+5\n",
            "La solucion posible es : 7*6-5+8/1\n",
            "La solucion posible es : 7*6-5/1+8\n",
            "La solucion posible es : 7*6-2+5/1\n",
            "La solucion posible es : 7*6-2/1+5\n",
            "La solucion posible es : 7*6-1+8/2\n",
            "La solucion posible es : 7+8*5/1-2\n",
            "La solucion posible es : 7+8*5-4/2\n",
            "La solucion posible es : 7+8*5-2/1\n",
            "La solucion posible es : 7+8*5-6/3\n",
            "La solucion posible es : 7+8/1*5-2\n",
            "La solucion posible es : 7+5*8/1-2\n",
            "La solucion posible es : 7+5*8-4/2\n",
            "La solucion posible es : 7+5*8-2/1\n",
            "La solucion posible es : 7+5*8-6/3\n",
            "La solucion posible es : 7+5/1*8-2\n",
            "La solucion posible es : 7/1*6+8-5\n",
            "La solucion posible es : 7/1*6+5-2\n",
            "La solucion posible es : 7/1*6-5+8\n",
            "La solucion posible es : 7/1*6-2+5\n",
            "La solucion posible es : 7/1+8*5-2\n",
            "La solucion posible es : 7/1+5*8-2\n",
            "La solucion posible es : 7/1-2+8*5\n",
            "La solucion posible es : 7/1-2+5*8\n",
            "La solucion posible es : 7-4/2+8*5\n",
            "La solucion posible es : 7-4/2+5*8\n",
            "La solucion posible es : 7-2+8*5/1\n",
            "La solucion posible es : 7-2+8/1*5\n",
            "La solucion posible es : 7-2+5*8/1\n",
            "La solucion posible es : 7-2+5/1*8\n",
            "La solucion posible es : 7-2/1+8*5\n",
            "La solucion posible es : 7-2/1+5*8\n",
            "La solucion posible es : 7-6/3+8*5\n",
            "La solucion posible es : 7-6/3+5*8\n",
            "La solucion posible es : 5*8+7/1-2\n",
            "La solucion posible es : 5*8+7-4/2\n",
            "La solucion posible es : 5*8+7-2/1\n",
            "La solucion posible es : 5*8+7-6/3\n",
            "La solucion posible es : 5*8+9/1-4\n",
            "La solucion posible es : 5*8+9-4/1\n",
            "La solucion posible es : 5*8/1+7-2\n",
            "La solucion posible es : 5*8/1+9-4\n",
            "La solucion posible es : 5*8/1-4+9\n",
            "La solucion posible es : 5*8/1-2+7\n",
            "La solucion posible es : 5*8-4+9/1\n",
            "La solucion posible es : 5*8-4/2+7\n",
            "La solucion posible es : 5*8-4/1+9\n",
            "La solucion posible es : 5*8-2+7/1\n",
            "La solucion posible es : 5*8-2/1+7\n",
            "La solucion posible es : 5*8-6/3+7\n",
            "La solucion posible es : 5*9+8/4-2\n",
            "La solucion posible es : 5*9+8/2-4\n",
            "La solucion posible es : 5*9+4-8/2\n",
            "La solucion posible es : 5*9+3-6/2\n",
            "La solucion posible es : 5*9+2-8/4\n",
            "La solucion posible es : 5*9+2-6/3\n",
            "La solucion posible es : 5*9+6/3-2\n",
            "La solucion posible es : 5*9+6/2-3\n",
            "La solucion posible es : 5*9-8/4+2\n",
            "La solucion posible es : 5*9-8/2+4\n",
            "La solucion posible es : 5*9-4+8/2\n",
            "La solucion posible es : 5*9-3+6/2\n",
            "La solucion posible es : 5*9-2+8/4\n",
            "La solucion posible es : 5*9-2+6/3\n",
            "La solucion posible es : 5*9-6/3+2\n",
            "La solucion posible es : 5*9-6/2+3\n",
            "La solucion posible es : 5+7*6/1-2\n",
            "La solucion posible es : 5+7*6-8/4\n",
            "La solucion posible es : 5+7*6-4/2\n",
            "La solucion posible es : 5+7*6-2/1\n",
            "La solucion posible es : 5+7/1*6-2\n",
            "La solucion posible es : 5+6*7/1-2\n",
            "La solucion posible es : 5+6*7-8/4\n",
            "La solucion posible es : 5+6*7-4/2\n",
            "La solucion posible es : 5+6*7-2/1\n",
            "La solucion posible es : 5+6/1*7-2\n",
            "La solucion posible es : 5/1*8+7-2\n",
            "La solucion posible es : 5/1*8+9-4\n",
            "La solucion posible es : 5/1*8-4+9\n",
            "La solucion posible es : 5/1*8-2+7\n",
            "La solucion posible es : 5/1+7*6-2\n",
            "La solucion posible es : 5/1+6*7-2\n",
            "La solucion posible es : 5/1-2+7*6\n",
            "La solucion posible es : 5/1-2+6*7\n",
            "La solucion posible es : 5-8/4+7*6\n",
            "La solucion posible es : 5-8/4+6*7\n",
            "La solucion posible es : 5-4/2+7*6\n",
            "La solucion posible es : 5-4/2+6*7\n",
            "La solucion posible es : 5-2+7*6/1\n",
            "La solucion posible es : 5-2+7/1*6\n",
            "La solucion posible es : 5-2+6*7/1\n",
            "La solucion posible es : 5-2+6/1*7\n",
            "La solucion posible es : 5-2/1+7*6\n",
            "La solucion posible es : 5-2/1+6*7\n",
            "La solucion posible es : 3+5*9-6/2\n",
            "La solucion posible es : 3+9*5-6/2\n",
            "La solucion posible es : 3-6/2+5*9\n",
            "La solucion posible es : 3-6/2+9*5\n",
            "La solucion posible es : 2+8*6/1-5\n",
            "La solucion posible es : 2+8*6-5/1\n",
            "La solucion posible es : 2+8/1*6-5\n",
            "La solucion posible es : 2+5*9-8/4\n",
            "La solucion posible es : 2+5*9-6/3\n",
            "La solucion posible es : 2+9*5-8/4\n",
            "La solucion posible es : 2+9*5-6/3\n",
            "La solucion posible es : 2+6*8/1-5\n",
            "La solucion posible es : 2+6*8-5/1\n",
            "La solucion posible es : 2+6/1*8-5\n",
            "La solucion posible es : 2/1+8*6-5\n",
            "La solucion posible es : 2/1+6*8-5\n",
            "La solucion posible es : 2/1-5+8*6\n",
            "La solucion posible es : 2/1-5+6*8\n",
            "La solucion posible es : 2-8/4+5*9\n",
            "La solucion posible es : 2-8/4+9*5\n",
            "La solucion posible es : 2-5+8*6/1\n",
            "La solucion posible es : 2-5+8/1*6\n",
            "La solucion posible es : 2-5+6*8/1\n",
            "La solucion posible es : 2-5+6/1*8\n",
            "La solucion posible es : 2-5/1+8*6\n",
            "La solucion posible es : 2-5/1+6*8\n",
            "La solucion posible es : 2-6/3+5*9\n",
            "La solucion posible es : 2-6/3+9*5\n",
            "La solucion posible es : 9*5+8/4-2\n",
            "La solucion posible es : 9*5+8/2-4\n",
            "La solucion posible es : 9*5+4-8/2\n",
            "La solucion posible es : 9*5+3-6/2\n",
            "La solucion posible es : 9*5+2-8/4\n",
            "La solucion posible es : 9*5+2-6/3\n",
            "La solucion posible es : 9*5+6/3-2\n",
            "La solucion posible es : 9*5+6/2-3\n",
            "La solucion posible es : 9*5-8/4+2\n",
            "La solucion posible es : 9*5-8/2+4\n",
            "La solucion posible es : 9*5-4+8/2\n",
            "La solucion posible es : 9*5-3+6/2\n",
            "La solucion posible es : 9*5-2+8/4\n",
            "La solucion posible es : 9*5-2+6/3\n",
            "La solucion posible es : 9*5-6/3+2\n",
            "La solucion posible es : 9*5-6/2+3\n",
            "La solucion posible es : 9+8*5/1-4\n",
            "La solucion posible es : 9+8*5-4/1\n",
            "La solucion posible es : 9+8/1*5-4\n",
            "La solucion posible es : 9+5*8/1-4\n",
            "La solucion posible es : 9+5*8-4/1\n",
            "La solucion posible es : 9+5/1*8-4\n",
            "La solucion posible es : 9/1+8*5-4\n",
            "La solucion posible es : 9/1+5*8-4\n",
            "La solucion posible es : 9/1-4+8*5\n",
            "La solucion posible es : 9/1-4+5*8\n",
            "La solucion posible es : 9-4+8*5/1\n",
            "La solucion posible es : 9-4+8/1*5\n",
            "La solucion posible es : 9-4+5*8/1\n",
            "La solucion posible es : 9-4+5/1*8\n",
            "La solucion posible es : 9-4/1+8*5\n",
            "La solucion posible es : 9-4/1+5*8\n",
            "La solucion posible es : 6*8+4/2-5\n",
            "La solucion posible es : 6*8+4/1-7\n",
            "La solucion posible es : 6*8+4-7/1\n",
            "La solucion posible es : 6*8+2/1-5\n",
            "La solucion posible es : 6*8+2-5/1\n",
            "La solucion posible es : 6*8/1+4-7\n",
            "La solucion posible es : 6*8/1+2-5\n",
            "La solucion posible es : 6*8/1-7+4\n",
            "La solucion posible es : 6*8/1-5+2\n",
            "La solucion posible es : 6*8-7+4/1\n",
            "La solucion posible es : 6*8-7/1+4\n",
            "La solucion posible es : 6*8-5+4/2\n",
            "La solucion posible es : 6*8-5+2/1\n",
            "La solucion posible es : 6*8-5/1+2\n",
            "La solucion posible es : 6*7+8/2-1\n",
            "La solucion posible es : 6*7+8/1-5\n",
            "La solucion posible es : 6*7+8-5/1\n",
            "La solucion posible es : 6*7+5/1-2\n",
            "La solucion posible es : 6*7+5-8/4\n",
            "La solucion posible es : 6*7+5-4/2\n",
            "La solucion posible es : 6*7+5-2/1\n",
            "La solucion posible es : 6*7/1+8-5\n",
            "La solucion posible es : 6*7/1+5-2\n",
            "La solucion posible es : 6*7/1-5+8\n",
            "La solucion posible es : 6*7/1-2+5\n",
            "La solucion posible es : 6*7-8/4+5\n",
            "La solucion posible es : 6*7-4/2+5\n",
            "La solucion posible es : 6*7-5+8/1\n",
            "La solucion posible es : 6*7-5/1+8\n",
            "La solucion posible es : 6*7-2+5/1\n",
            "La solucion posible es : 6*7-2/1+5\n",
            "La solucion posible es : 6*7-1+8/2\n",
            "La solucion posible es : 6/3+5*9-2\n",
            "La solucion posible es : 6/3+9*5-2\n",
            "La solucion posible es : 6/3-2+5*9\n",
            "La solucion posible es : 6/3-2+9*5\n",
            "La solucion posible es : 6/2+5*9-3\n",
            "La solucion posible es : 6/2+9*5-3\n",
            "La solucion posible es : 6/2-3+5*9\n",
            "La solucion posible es : 6/2-3+9*5\n",
            "La solucion posible es : 6/1*8+4-7\n",
            "La solucion posible es : 6/1*8+2-5\n",
            "La solucion posible es : 6/1*8-7+4\n",
            "La solucion posible es : 6/1*8-5+2\n",
            "La solucion posible es : 6/1*7+8-5\n",
            "La solucion posible es : 6/1*7+5-2\n",
            "La solucion posible es : 6/1*7-5+8\n",
            "La solucion posible es : 6/1*7-2+5\n",
            "Tiempo de ejecución: 27.70578408241272 segundos\n"
          ]
        }
      ]
    },
    {
      "cell_type": "markdown",
      "metadata": {
        "id": "tgrnsC2nkFa8"
      },
      "source": [
        "Calcula la complejidad del algoritmo por fuerza bruta"
      ]
    },
    {
      "cell_type": "markdown",
      "metadata": {
        "id": "9eUd3xwckP68"
      },
      "source": [
        "Respuesta"
      ]
    },
    {
      "cell_type": "code",
      "metadata": {
        "id": "rvZWwL-ckRST"
      },
      "source": [
        "En fuerza bruta asciende a O(n^5 * m^4) ya que son 5 elecciones para numero (n) y 4 elecciones para operador (m)"
      ],
      "execution_count": null,
      "outputs": []
    },
    {
      "cell_type": "markdown",
      "metadata": {
        "id": "txbrmLmskReM"
      },
      "source": [
        "(*)Diseña un algoritmo que mejore la complejidad del algortimo por fuerza bruta. Argumenta porque crees que mejora el algoritmo por fuerza bruta"
      ]
    },
    {
      "cell_type": "markdown",
      "metadata": {
        "id": "hLrVwt5QkZPD"
      },
      "source": [
        "Respuesta"
      ]
    },
    {
      "cell_type": "code",
      "metadata": {
        "id": "m1eyM21Vkabg",
        "colab": {
          "base_uri": "https://localhost:8080/"
        },
        "outputId": "438948bf-5ae0-4b45-8eef-d9adba8fea32"
      },
      "source": [
        "\"\"\"\n",
        "Es una mejora con respecto a fuerza bruta puesto que evita los duplicados\n",
        "de numeros y operaciones en la misma ejecucion entre invocaciones recursivas,\n",
        "el consumo de recursos será superior pero el tiempo de ejecución se ve mejorado\n",
        "\"\"\"\n",
        "\n",
        "import time\n",
        "\n",
        "\n",
        "\n",
        "def verificar_expresion(expresion,num_deseado): #funcion objetivo, se podria obviar la revision de caracteres pero no supone carga significativa\n",
        "  expresion_f=\"\"\n",
        "  for caracter in expresion: #elimina duplicados\n",
        "    if caracter not in expresion_f:\n",
        "        expresion_f += caracter\n",
        "  if(len(expresion_f)==9): #solo expresiones validas\n",
        "    if(eval(expresion_f)==num_deseado): #si concuerda el valor deseado\n",
        "        return True\n",
        "  else:\n",
        "    return False\n",
        "\n",
        "# Función de backtracking recursiva\n",
        "def backtrack(opciones_numeros_nuevo, opciones_operaciones_nuevo,num_deseado,todas_opciones, turno=0, expresion=\"\"):\n",
        "    if turno == 9:  # 5 números y 4 operaciones forman una cadena de longitud 9\n",
        "        if verificar_expresion(expresion, num_deseado):\n",
        "            return [expresion]\n",
        "        return []\n",
        "\n",
        "    soluciones = []\n",
        "\n",
        "    # Alternamos entre números y operaciones según la profundidad\n",
        "    if turno % 2 == 0:  # agregar número\n",
        "        for num in opciones_numeros_nuevo:\n",
        "            soluciones += backtrack(opciones_numeros_nuevo-{num}, opciones_operaciones_nuevo,num_deseado,todas_opciones, turno+1, expresion + num) #no repite numero\n",
        "            if (not todas_opciones) & (len(soluciones)>0) :\n",
        "                return soluciones\n",
        "    else:  #agregar operación\n",
        "        for op in opciones_operaciones_nuevo:\n",
        "            soluciones += backtrack(opciones_numeros_nuevo, opciones_operaciones_nuevo-{op},num_deseado,todas_opciones,turno+1, expresion + op) #no repite operacion\n",
        "            if (not todas_opciones) & (len(soluciones)>0) :\n",
        "                return soluciones\n",
        "    return soluciones\n",
        "\n",
        "numero_deseado = 45\n",
        "todas_opciones = True\n",
        "\n",
        "opciones_numeros={str(a) for a in range(1,10)} #numeros del 1 al 9\n",
        "opciones_operaciones={\"+\",\"-\",\"*\",\"/\"} #expresiones a usar\n",
        "inicio = time.time()  # tiempo inicial\n",
        "solucion = backtrack(opciones_numeros, opciones_operaciones,num_deseado=numero_deseado,todas_opciones=todas_opciones) #invocar metodo recursivo\n",
        "fin = time.time()  # Tiempo final\n",
        "for sol in solucion:\n",
        "  print(\"La solucion posible es : %s\"%sol)\n",
        "print(f\"Tiempo de ejecución: {fin - inicio} segundos\")\n"
      ],
      "execution_count": 19,
      "outputs": [
        {
          "output_type": "stream",
          "name": "stdout",
          "text": [
            "La solucion posible es : 8*5/1+7-2\n",
            "La solucion posible es : 8*5/1+9-4\n",
            "La solucion posible es : 8*5/1-4+9\n",
            "La solucion posible es : 8*5/1-2+7\n",
            "La solucion posible es : 8*5+7/1-2\n",
            "La solucion posible es : 8*5+7-4/2\n",
            "La solucion posible es : 8*5+7-2/1\n",
            "La solucion posible es : 8*5+7-6/3\n",
            "La solucion posible es : 8*5+9/1-4\n",
            "La solucion posible es : 8*5+9-4/1\n",
            "La solucion posible es : 8*5-4+9/1\n",
            "La solucion posible es : 8*5-4/2+7\n",
            "La solucion posible es : 8*5-4/1+9\n",
            "La solucion posible es : 8*5-2+7/1\n",
            "La solucion posible es : 8*5-2/1+7\n",
            "La solucion posible es : 8*5-6/3+7\n",
            "La solucion posible es : 8*6/1+4-7\n",
            "La solucion posible es : 8*6/1+2-5\n",
            "La solucion posible es : 8*6/1-7+4\n",
            "La solucion posible es : 8*6/1-5+2\n",
            "La solucion posible es : 8*6+4/2-5\n",
            "La solucion posible es : 8*6+4/1-7\n",
            "La solucion posible es : 8*6+4-7/1\n",
            "La solucion posible es : 8*6+2/1-5\n",
            "La solucion posible es : 8*6+2-5/1\n",
            "La solucion posible es : 8*6-7+4/1\n",
            "La solucion posible es : 8*6-7/1+4\n",
            "La solucion posible es : 8*6-5+4/2\n",
            "La solucion posible es : 8*6-5+2/1\n",
            "La solucion posible es : 8*6-5/1+2\n",
            "La solucion posible es : 8+7/1*6-5\n",
            "La solucion posible es : 8+7*6/1-5\n",
            "La solucion posible es : 8+7*6-5/1\n",
            "La solucion posible es : 8+6/1*7-5\n",
            "La solucion posible es : 8+6*7/1-5\n",
            "La solucion posible es : 8+6*7-5/1\n",
            "La solucion posible es : 8/4+5*9-2\n",
            "La solucion posible es : 8/4+9*5-2\n",
            "La solucion posible es : 8/4-2+5*9\n",
            "La solucion posible es : 8/4-2+9*5\n",
            "La solucion posible es : 8/2+7*6-1\n",
            "La solucion posible es : 8/2+5*9-4\n",
            "La solucion posible es : 8/2+9*5-4\n",
            "La solucion posible es : 8/2+6*7-1\n",
            "La solucion posible es : 8/2-4+5*9\n",
            "La solucion posible es : 8/2-4+9*5\n",
            "La solucion posible es : 8/2-1+7*6\n",
            "La solucion posible es : 8/2-1+6*7\n",
            "La solucion posible es : 8/1+7*6-5\n",
            "La solucion posible es : 8/1+6*7-5\n",
            "La solucion posible es : 8/1*5+7-2\n",
            "La solucion posible es : 8/1*5+9-4\n",
            "La solucion posible es : 8/1*5-4+9\n",
            "La solucion posible es : 8/1*5-2+7\n",
            "La solucion posible es : 8/1*6+4-7\n",
            "La solucion posible es : 8/1*6+2-5\n",
            "La solucion posible es : 8/1*6-7+4\n",
            "La solucion posible es : 8/1*6-5+2\n",
            "La solucion posible es : 8/1-5+7*6\n",
            "La solucion posible es : 8/1-5+6*7\n",
            "La solucion posible es : 8-5/1+7*6\n",
            "La solucion posible es : 8-5/1+6*7\n",
            "La solucion posible es : 8-5+7*6/1\n",
            "La solucion posible es : 8-5+7/1*6\n",
            "La solucion posible es : 8-5+6*7/1\n",
            "La solucion posible es : 8-5+6/1*7\n",
            "La solucion posible es : 4+8/1*6-7\n",
            "La solucion posible es : 4+8*6/1-7\n",
            "La solucion posible es : 4+8*6-7/1\n",
            "La solucion posible es : 4+5*9-8/2\n",
            "La solucion posible es : 4+9*5-8/2\n",
            "La solucion posible es : 4+6/1*8-7\n",
            "La solucion posible es : 4+6*8/1-7\n",
            "La solucion posible es : 4+6*8-7/1\n",
            "La solucion posible es : 4/2+8*6-5\n",
            "La solucion posible es : 4/2+6*8-5\n",
            "La solucion posible es : 4/2-5+8*6\n",
            "La solucion posible es : 4/2-5+6*8\n",
            "La solucion posible es : 4/1+8*6-7\n",
            "La solucion posible es : 4/1+6*8-7\n",
            "La solucion posible es : 4/1-7+8*6\n",
            "La solucion posible es : 4/1-7+6*8\n",
            "La solucion posible es : 4-8/2+5*9\n",
            "La solucion posible es : 4-8/2+9*5\n",
            "La solucion posible es : 4-7/1+8*6\n",
            "La solucion posible es : 4-7/1+6*8\n",
            "La solucion posible es : 4-7+8*6/1\n",
            "La solucion posible es : 4-7+8/1*6\n",
            "La solucion posible es : 4-7+6*8/1\n",
            "La solucion posible es : 4-7+6/1*8\n",
            "La solucion posible es : 7*6/1+8-5\n",
            "La solucion posible es : 7*6/1+5-2\n",
            "La solucion posible es : 7*6/1-5+8\n",
            "La solucion posible es : 7*6/1-2+5\n",
            "La solucion posible es : 7*6+8/1-5\n",
            "La solucion posible es : 7*6+8/2-1\n",
            "La solucion posible es : 7*6+8-5/1\n",
            "La solucion posible es : 7*6+5/1-2\n",
            "La solucion posible es : 7*6+5-8/4\n",
            "La solucion posible es : 7*6+5-4/2\n",
            "La solucion posible es : 7*6+5-2/1\n",
            "La solucion posible es : 7*6-8/4+5\n",
            "La solucion posible es : 7*6-4/2+5\n",
            "La solucion posible es : 7*6-5+8/1\n",
            "La solucion posible es : 7*6-5/1+8\n",
            "La solucion posible es : 7*6-2+5/1\n",
            "La solucion posible es : 7*6-2/1+5\n",
            "La solucion posible es : 7*6-1+8/2\n",
            "La solucion posible es : 7+8/1*5-2\n",
            "La solucion posible es : 7+8*5/1-2\n",
            "La solucion posible es : 7+8*5-4/2\n",
            "La solucion posible es : 7+8*5-2/1\n",
            "La solucion posible es : 7+8*5-6/3\n",
            "La solucion posible es : 7+5/1*8-2\n",
            "La solucion posible es : 7+5*8/1-2\n",
            "La solucion posible es : 7+5*8-4/2\n",
            "La solucion posible es : 7+5*8-2/1\n",
            "La solucion posible es : 7+5*8-6/3\n",
            "La solucion posible es : 7/1+8*5-2\n",
            "La solucion posible es : 7/1+5*8-2\n",
            "La solucion posible es : 7/1*6+8-5\n",
            "La solucion posible es : 7/1*6+5-2\n",
            "La solucion posible es : 7/1*6-5+8\n",
            "La solucion posible es : 7/1*6-2+5\n",
            "La solucion posible es : 7/1-2+8*5\n",
            "La solucion posible es : 7/1-2+5*8\n",
            "La solucion posible es : 7-4/2+8*5\n",
            "La solucion posible es : 7-4/2+5*8\n",
            "La solucion posible es : 7-2/1+8*5\n",
            "La solucion posible es : 7-2/1+5*8\n",
            "La solucion posible es : 7-2+8*5/1\n",
            "La solucion posible es : 7-2+8/1*5\n",
            "La solucion posible es : 7-2+5*8/1\n",
            "La solucion posible es : 7-2+5/1*8\n",
            "La solucion posible es : 7-6/3+8*5\n",
            "La solucion posible es : 7-6/3+5*8\n",
            "La solucion posible es : 5*8/1+7-2\n",
            "La solucion posible es : 5*8/1+9-4\n",
            "La solucion posible es : 5*8/1-4+9\n",
            "La solucion posible es : 5*8/1-2+7\n",
            "La solucion posible es : 5*8+7/1-2\n",
            "La solucion posible es : 5*8+7-4/2\n",
            "La solucion posible es : 5*8+7-2/1\n",
            "La solucion posible es : 5*8+7-6/3\n",
            "La solucion posible es : 5*8+9/1-4\n",
            "La solucion posible es : 5*8+9-4/1\n",
            "La solucion posible es : 5*8-4+9/1\n",
            "La solucion posible es : 5*8-4/2+7\n",
            "La solucion posible es : 5*8-4/1+9\n",
            "La solucion posible es : 5*8-2+7/1\n",
            "La solucion posible es : 5*8-2/1+7\n",
            "La solucion posible es : 5*8-6/3+7\n",
            "La solucion posible es : 5*9+8/4-2\n",
            "La solucion posible es : 5*9+8/2-4\n",
            "La solucion posible es : 5*9+4-8/2\n",
            "La solucion posible es : 5*9+3-6/2\n",
            "La solucion posible es : 5*9+2-8/4\n",
            "La solucion posible es : 5*9+2-6/3\n",
            "La solucion posible es : 5*9+6/2-3\n",
            "La solucion posible es : 5*9+6/3-2\n",
            "La solucion posible es : 5*9-8/4+2\n",
            "La solucion posible es : 5*9-8/2+4\n",
            "La solucion posible es : 5*9-4+8/2\n",
            "La solucion posible es : 5*9-3+6/2\n",
            "La solucion posible es : 5*9-2+8/4\n",
            "La solucion posible es : 5*9-2+6/3\n",
            "La solucion posible es : 5*9-6/2+3\n",
            "La solucion posible es : 5*9-6/3+2\n",
            "La solucion posible es : 5+7/1*6-2\n",
            "La solucion posible es : 5+7*6/1-2\n",
            "La solucion posible es : 5+7*6-8/4\n",
            "La solucion posible es : 5+7*6-4/2\n",
            "La solucion posible es : 5+7*6-2/1\n",
            "La solucion posible es : 5+6/1*7-2\n",
            "La solucion posible es : 5+6*7/1-2\n",
            "La solucion posible es : 5+6*7-8/4\n",
            "La solucion posible es : 5+6*7-4/2\n",
            "La solucion posible es : 5+6*7-2/1\n",
            "La solucion posible es : 5/1+7*6-2\n",
            "La solucion posible es : 5/1+6*7-2\n",
            "La solucion posible es : 5/1*8+7-2\n",
            "La solucion posible es : 5/1*8+9-4\n",
            "La solucion posible es : 5/1*8-4+9\n",
            "La solucion posible es : 5/1*8-2+7\n",
            "La solucion posible es : 5/1-2+7*6\n",
            "La solucion posible es : 5/1-2+6*7\n",
            "La solucion posible es : 5-8/4+7*6\n",
            "La solucion posible es : 5-8/4+6*7\n",
            "La solucion posible es : 5-4/2+7*6\n",
            "La solucion posible es : 5-4/2+6*7\n",
            "La solucion posible es : 5-2/1+7*6\n",
            "La solucion posible es : 5-2/1+6*7\n",
            "La solucion posible es : 5-2+7*6/1\n",
            "La solucion posible es : 5-2+7/1*6\n",
            "La solucion posible es : 5-2+6*7/1\n",
            "La solucion posible es : 5-2+6/1*7\n",
            "La solucion posible es : 3+5*9-6/2\n",
            "La solucion posible es : 3+9*5-6/2\n",
            "La solucion posible es : 3-6/2+5*9\n",
            "La solucion posible es : 3-6/2+9*5\n",
            "La solucion posible es : 2+8/1*6-5\n",
            "La solucion posible es : 2+8*6/1-5\n",
            "La solucion posible es : 2+8*6-5/1\n",
            "La solucion posible es : 2+5*9-8/4\n",
            "La solucion posible es : 2+5*9-6/3\n",
            "La solucion posible es : 2+9*5-8/4\n",
            "La solucion posible es : 2+9*5-6/3\n",
            "La solucion posible es : 2+6/1*8-5\n",
            "La solucion posible es : 2+6*8/1-5\n",
            "La solucion posible es : 2+6*8-5/1\n",
            "La solucion posible es : 2/1+8*6-5\n",
            "La solucion posible es : 2/1+6*8-5\n",
            "La solucion posible es : 2/1-5+8*6\n",
            "La solucion posible es : 2/1-5+6*8\n",
            "La solucion posible es : 2-8/4+5*9\n",
            "La solucion posible es : 2-8/4+9*5\n",
            "La solucion posible es : 2-5/1+8*6\n",
            "La solucion posible es : 2-5/1+6*8\n",
            "La solucion posible es : 2-5+8*6/1\n",
            "La solucion posible es : 2-5+8/1*6\n",
            "La solucion posible es : 2-5+6*8/1\n",
            "La solucion posible es : 2-5+6/1*8\n",
            "La solucion posible es : 2-6/3+5*9\n",
            "La solucion posible es : 2-6/3+9*5\n",
            "La solucion posible es : 9*5+8/4-2\n",
            "La solucion posible es : 9*5+8/2-4\n",
            "La solucion posible es : 9*5+4-8/2\n",
            "La solucion posible es : 9*5+3-6/2\n",
            "La solucion posible es : 9*5+2-8/4\n",
            "La solucion posible es : 9*5+2-6/3\n",
            "La solucion posible es : 9*5+6/2-3\n",
            "La solucion posible es : 9*5+6/3-2\n",
            "La solucion posible es : 9*5-8/4+2\n",
            "La solucion posible es : 9*5-8/2+4\n",
            "La solucion posible es : 9*5-4+8/2\n",
            "La solucion posible es : 9*5-3+6/2\n",
            "La solucion posible es : 9*5-2+8/4\n",
            "La solucion posible es : 9*5-2+6/3\n",
            "La solucion posible es : 9*5-6/2+3\n",
            "La solucion posible es : 9*5-6/3+2\n",
            "La solucion posible es : 9+8/1*5-4\n",
            "La solucion posible es : 9+8*5/1-4\n",
            "La solucion posible es : 9+8*5-4/1\n",
            "La solucion posible es : 9+5/1*8-4\n",
            "La solucion posible es : 9+5*8/1-4\n",
            "La solucion posible es : 9+5*8-4/1\n",
            "La solucion posible es : 9/1+8*5-4\n",
            "La solucion posible es : 9/1+5*8-4\n",
            "La solucion posible es : 9/1-4+8*5\n",
            "La solucion posible es : 9/1-4+5*8\n",
            "La solucion posible es : 9-4/1+8*5\n",
            "La solucion posible es : 9-4/1+5*8\n",
            "La solucion posible es : 9-4+8*5/1\n",
            "La solucion posible es : 9-4+8/1*5\n",
            "La solucion posible es : 9-4+5*8/1\n",
            "La solucion posible es : 9-4+5/1*8\n",
            "La solucion posible es : 6*8/1+4-7\n",
            "La solucion posible es : 6*8/1+2-5\n",
            "La solucion posible es : 6*8/1-7+4\n",
            "La solucion posible es : 6*8/1-5+2\n",
            "La solucion posible es : 6*8+4/2-5\n",
            "La solucion posible es : 6*8+4/1-7\n",
            "La solucion posible es : 6*8+4-7/1\n",
            "La solucion posible es : 6*8+2/1-5\n",
            "La solucion posible es : 6*8+2-5/1\n",
            "La solucion posible es : 6*8-7+4/1\n",
            "La solucion posible es : 6*8-7/1+4\n",
            "La solucion posible es : 6*8-5+4/2\n",
            "La solucion posible es : 6*8-5+2/1\n",
            "La solucion posible es : 6*8-5/1+2\n",
            "La solucion posible es : 6*7/1+8-5\n",
            "La solucion posible es : 6*7/1+5-2\n",
            "La solucion posible es : 6*7/1-5+8\n",
            "La solucion posible es : 6*7/1-2+5\n",
            "La solucion posible es : 6*7+8/1-5\n",
            "La solucion posible es : 6*7+8/2-1\n",
            "La solucion posible es : 6*7+8-5/1\n",
            "La solucion posible es : 6*7+5/1-2\n",
            "La solucion posible es : 6*7+5-8/4\n",
            "La solucion posible es : 6*7+5-4/2\n",
            "La solucion posible es : 6*7+5-2/1\n",
            "La solucion posible es : 6*7-8/4+5\n",
            "La solucion posible es : 6*7-4/2+5\n",
            "La solucion posible es : 6*7-5+8/1\n",
            "La solucion posible es : 6*7-5/1+8\n",
            "La solucion posible es : 6*7-2+5/1\n",
            "La solucion posible es : 6*7-2/1+5\n",
            "La solucion posible es : 6*7-1+8/2\n",
            "La solucion posible es : 6/3+5*9-2\n",
            "La solucion posible es : 6/3+9*5-2\n",
            "La solucion posible es : 6/3-2+5*9\n",
            "La solucion posible es : 6/3-2+9*5\n",
            "La solucion posible es : 6/2+5*9-3\n",
            "La solucion posible es : 6/2+9*5-3\n",
            "La solucion posible es : 6/2-3+5*9\n",
            "La solucion posible es : 6/2-3+9*5\n",
            "La solucion posible es : 6/1*8+4-7\n",
            "La solucion posible es : 6/1*8+2-5\n",
            "La solucion posible es : 6/1*8-7+4\n",
            "La solucion posible es : 6/1*8-5+2\n",
            "La solucion posible es : 6/1*7+8-5\n",
            "La solucion posible es : 6/1*7+5-2\n",
            "La solucion posible es : 6/1*7-5+8\n",
            "La solucion posible es : 6/1*7-2+5\n",
            "Tiempo de ejecución: 3.5413706302642822 segundos\n"
          ]
        }
      ]
    },
    {
      "cell_type": "markdown",
      "metadata": {
        "id": "eGDB4K6uk1iN"
      },
      "source": [
        "(*)Calcula la complejidad del algoritmo"
      ]
    },
    {
      "cell_type": "markdown",
      "metadata": {
        "id": "NhpTh_BPk1ms"
      },
      "source": [
        "Respuesta"
      ]
    },
    {
      "cell_type": "code",
      "metadata": {
        "id": "nREzhkStlCq8"
      },
      "source": [
        "La complejidad en este caso es de tipo n! ya que para numeros 9*8*7*6*5 y operaciones 4*3*2*1"
      ],
      "execution_count": null,
      "outputs": []
    },
    {
      "cell_type": "markdown",
      "metadata": {
        "id": "3M6QjTsSkmYe"
      },
      "source": [
        "Según el problema (y tenga sentido), diseña un juego de datos de entrada aleatorios"
      ]
    },
    {
      "cell_type": "markdown",
      "metadata": {
        "id": "Jc3_OlyNkvjZ"
      },
      "source": [
        "Respuesta"
      ]
    },
    {
      "cell_type": "code",
      "metadata": {
        "id": "sJ-N2etjkyWc",
        "colab": {
          "base_uri": "https://localhost:8080/"
        },
        "outputId": "6e999660-a4da-49ab-e274-1579126cdea2"
      },
      "source": [
        "import numpy\n",
        "deseados_aleatorios= numpy.random.randint(1, 50, size=10) # generar 10 numeros aleatorios del 1 al 50\n",
        "print(deseados_aleatorios)"
      ],
      "execution_count": 15,
      "outputs": [
        {
          "output_type": "stream",
          "name": "stdout",
          "text": [
            "[26 29 35 27 29 11  9 45 32 46]\n"
          ]
        }
      ]
    },
    {
      "cell_type": "markdown",
      "metadata": {
        "id": "zy5ZROmjlGo1"
      },
      "source": [
        "Aplica el algoritmo al juego de datos generado"
      ]
    },
    {
      "cell_type": "markdown",
      "metadata": {
        "id": "_Cmj-PVylMsa"
      },
      "source": [
        "Respuesta"
      ]
    },
    {
      "cell_type": "code",
      "metadata": {
        "id": "Jkx8GeiYlUz1",
        "colab": {
          "base_uri": "https://localhost:8080/"
        },
        "outputId": "5ec84d68-873c-47b5-fff6-935936a73e1e"
      },
      "source": [
        "todas_opciones = False\n",
        "opciones_numeros={str(a) for a in range(1,10)} #numeros del 1 al 9\n",
        "opciones_operaciones={\"+\",\"-\",\"*\",\"/\"} #expresiones a usar\n",
        "\n",
        "#implementacion fuerza bruta\n",
        "#implementacion fasttrack\n",
        "for numero_deseado in deseados_aleatorios:\n",
        "  inicio = time.time()  # tiempo inicial\n",
        "  solucion = work(numero_deseado,todas_opciones)\n",
        "  fin = time.time()  # Tiempo final\n",
        "  for sol in solucion:\n",
        "    print(\"Por fuerza bruta para el numero deseado %s la solucion posible es : %s\"%(numero_deseado,sol))\n",
        "  print(f\"Tiempo de ejecución: {fin - inicio} segundos\")\n",
        "\n",
        "#implementacion fasttrack\n",
        "for numero_deseado in deseados_aleatorios:\n",
        "  inicio = time.time()  # tiempo inicial\n",
        "  solucion = backtrack(opciones_numeros, opciones_operaciones,num_deseado=numero_deseado,todas_opciones=todas_opciones) #invocar metodo recursivo\n",
        "  fin = time.time()  # Tiempo final\n",
        "  for sol in solucion:\n",
        "    print(\"Por fasttrack para el numero deseado %s la solucion posible es : %s\"%(numero_deseado,sol))\n",
        "  print(f\"Tiempo de ejecución: {fin - inicio} segundos\")"
      ],
      "execution_count": 24,
      "outputs": [
        {
          "output_type": "stream",
          "name": "stdout",
          "text": [
            "Por fuerza bruta para el numero deseado 26 la solucion posible es : 8*4+3/1-9\n",
            "Tiempo de ejecución: 0.09917020797729492 segundos\n",
            "Por fuerza bruta para el numero deseado 29 la solucion posible es : 8*4+3/1-6\n",
            "Tiempo de ejecución: 0.10256266593933105 segundos\n",
            "Por fuerza bruta para el numero deseado 35 la solucion posible es : 8*4+5/1-2\n",
            "Tiempo de ejecución: 0.08742022514343262 segundos\n",
            "Por fuerza bruta para el numero deseado 27 la solucion posible es : 8*4+2/1-7\n",
            "Tiempo de ejecución: 0.09465646743774414 segundos\n",
            "Por fuerza bruta para el numero deseado 29 la solucion posible es : 8*4+3/1-6\n",
            "Tiempo de ejecución: 0.09481453895568848 segundos\n",
            "Por fuerza bruta para el numero deseado 11 la solucion posible es : 8*4/2+1-6\n",
            "Tiempo de ejecución: 0.11408638954162598 segundos\n",
            "Por fuerza bruta para el numero deseado 9 la solucion posible es : 8*7/4+1-6\n",
            "Tiempo de ejecución: 0.1961374282836914 segundos\n",
            "Por fuerza bruta para el numero deseado 45 la solucion posible es : 8*5+7/1-2\n",
            "Tiempo de ejecución: 0.25852203369140625 segundos\n",
            "Por fuerza bruta para el numero deseado 32 la solucion posible es : 8*4+3-6/2\n",
            "Tiempo de ejecución: 0.1075434684753418 segundos\n",
            "Por fuerza bruta para el numero deseado 46 la solucion posible es : 8*5+9/1-3\n",
            "Tiempo de ejecución: 0.26261234283447266 segundos\n",
            "Por fasttrack para el numero deseado 26 la solucion posible es : 8*4/1+3-9\n",
            "Tiempo de ejecución: 0.0034704208374023438 segundos\n",
            "Por fasttrack para el numero deseado 29 la solucion posible es : 8*4/1+2-5\n",
            "Tiempo de ejecución: 0.0033049583435058594 segundos\n",
            "Por fasttrack para el numero deseado 35 la solucion posible es : 8*4/1+5-2\n",
            "Tiempo de ejecución: 0.0031833648681640625 segundos\n",
            "Por fasttrack para el numero deseado 27 la solucion posible es : 8*4/1+2-7\n",
            "Tiempo de ejecución: 0.0032470226287841797 segundos\n",
            "Por fasttrack para el numero deseado 29 la solucion posible es : 8*4/1+2-5\n",
            "Tiempo de ejecución: 0.0032913684844970703 segundos\n",
            "Por fasttrack para el numero deseado 11 la solucion posible es : 8*4/2+1-6\n",
            "Tiempo de ejecución: 0.0024809837341308594 segundos\n",
            "Por fasttrack para el numero deseado 9 la solucion posible es : 8*7/4+1-6\n",
            "Tiempo de ejecución: 0.024687767028808594 segundos\n",
            "Por fasttrack para el numero deseado 45 la solucion posible es : 8*5/1+7-2\n",
            "Tiempo de ejecución: 0.035965681076049805 segundos\n",
            "Por fasttrack para el numero deseado 32 la solucion posible es : 8*4+3-6/2\n",
            "Tiempo de ejecución: 0.008725881576538086 segundos\n",
            "Por fasttrack para el numero deseado 46 la solucion posible es : 8*5/1+9-3\n",
            "Tiempo de ejecución: 0.03622293472290039 segundos\n"
          ]
        }
      ]
    },
    {
      "cell_type": "markdown",
      "metadata": {
        "id": "eTFWUJQrtGcv"
      },
      "source": [
        "Enumera las referencias que has utilizado(si ha sido necesario) para llevar a cabo el trabajo"
      ]
    },
    {
      "cell_type": "markdown",
      "metadata": {
        "id": "YKQ_mRBttWsP"
      },
      "source": [
        "Respuesta"
      ]
    },
    {
      "cell_type": "markdown",
      "metadata": {
        "id": "kAkDPUyRtYyH"
      },
      "source": [
        "Describe brevemente las lineas de como crees que es posible avanzar en el estudio del problema. Ten en cuenta incluso posibles variaciones del problema y/o variaciones al alza del tamaño"
      ]
    },
    {
      "cell_type": "markdown",
      "metadata": {
        "id": "IE0uZmo-tZu-"
      },
      "source": [
        "Se podria realizar una solución implementando ramificación y poda, en donde los nodos en los cuales la ultima operacion no haga posible que ningun numero cumpla la evaluación, sean descartados, haciendo posible eliminar muchas variantes\n",
        "\n",
        "Ejemplo\n",
        "\n",
        "el numero deseado 56\n",
        "\n",
        "6+4/1*9-X  = 56\n",
        "\n",
        "ahora 5+7/1*9 = 68 es decir X deberia ser 12 al ser mayor que 9 se pueden desechar todos los numeros posibles que pueda ser X\n",
        "\n",
        "De igual forma se puede aplicar para las otras operaciones."
      ]
    }
  ]
}